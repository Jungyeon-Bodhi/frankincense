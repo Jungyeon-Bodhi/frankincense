{
 "cells": [
  {
   "cell_type": "code",
   "execution_count": 4,
   "id": "aa8bf08e-127d-419f-8b24-a2e8f02efb95",
   "metadata": {},
   "outputs": [
    {
     "name": "stdout",
     "output_type": "stream",
     "text": [
      "Average difference in i_score: 0.20\n",
      "Ratio of female having equal or higher individual empowerment score than male: 0.00\n",
      "Ratio of female having lower individual empowerment score than male: 1.00\n",
      "The Gender Parity Index score is 0.80\n",
      "The Women's Empowerment in Agriculture Index is 0.53\n",
      "Average difference in i_score: 0.20\n",
      "Ratio of female having equal or higher individual empowerment score than male: 0.00\n",
      "Ratio of female having lower individual empowerment score than male: 1.00\n",
      "The Gender Parity Index score is 0.80\n",
      "The Women's Empowerment in Agriculture Index is 0.53\n",
      "Average difference in i_score: 0.20\n",
      "Ratio of female having equal or higher individual empowerment score than male: 0.00\n",
      "Ratio of female having lower individual empowerment score than male: 1.00\n",
      "The Gender Parity Index score is 0.80\n",
      "The Women's Empowerment in Agriculture Index is 0.53\n",
      "Average difference in i_score: 0.20\n",
      "Ratio of female having equal or higher individual empowerment score than male: 0.00\n",
      "Ratio of female having lower individual empowerment score than male: 1.00\n",
      "The Gender Parity Index score is 0.80\n",
      "The Women's Empowerment in Agriculture Index is 0.53\n",
      "Average difference in i_score: 0.20\n",
      "Ratio of female having equal or higher individual empowerment score than male: 0.00\n",
      "Ratio of female having lower individual empowerment score than male: 1.00\n",
      "The Gender Parity Index score is 0.80\n",
      "The Women's Empowerment in Agriculture Index is 0.53\n"
     ]
    },
    {
     "name": "stderr",
     "output_type": "stream",
     "text": [
      "/var/folders/0j/3kbdg36x21z37qcc3fqxx_0m0000gn/T/ipykernel_30127/4162963404.py:16: FutureWarning: DataFrame.applymap has been deprecated. Use DataFrame.map instead.\n",
      "  df = df.applymap(lambda x: x.lower() if isinstance(x, str) else x)\n"
     ]
    }
   ],
   "source": [
    "import WEAI_domain as domain\n",
    "import WEAI_analysis as bd\n",
    "import pandas as pd\n",
    "\n",
    "\n",
    "# Please assign the file path of the cleaned dataset\n",
    "file_path = 'data/dummy_cleaned.xlsx' \n",
    "\n",
    "# Please assign the file path for data analysis matrix\n",
    "file_path2 = \"data/tables.xlsx\"\n",
    "\n",
    "file_path3 = \"data/tables_breakdown.xlsx\"\n",
    "\n",
    "# Please assign the file path for data analysis matrix\n",
    "df = pd.read_excel(file_path)\n",
    "df = df.applymap(lambda x: x.lower() if isinstance(x, str) else x)\n",
    "\n",
    "# Run the domain analysis\n",
    "domains = domain.Domain(df)\n",
    "df = domains.domain_analysis()\n",
    "\n",
    "# Run the weai analysis\n",
    "weai = bd.WEAI(df, name='Overall')\n",
    "weai.analysis(file_path2)\n",
    "weai.breakdown_save({1:{\"G1.02a\":\"Region\"},2:{\"G1.05\":\"Age Group\"}}, file_path3)"
   ]
  },
  {
   "cell_type": "code",
   "execution_count": null,
   "id": "51347900-8b01-4a14-af74-70f4ce87f822",
   "metadata": {},
   "outputs": [],
   "source": [
    "weai."
   ]
  },
  {
   "cell_type": "code",
   "execution_count": null,
   "id": "dee4ae8d-76ab-4b8b-aa8e-706c7db3ab8b",
   "metadata": {},
   "outputs": [],
   "source": [
    "domains = Domain(df)"
   ]
  },
  {
   "cell_type": "code",
   "execution_count": null,
   "id": "69f0d5ea-7c4c-41bb-b23f-7b39f3ddbf99",
   "metadata": {},
   "outputs": [],
   "source": [
    "df = domains.domain_analysis()"
   ]
  },
  {
   "cell_type": "code",
   "execution_count": null,
   "id": "b96836e7-337c-4f9b-9e27-1c0e6e852b2a",
   "metadata": {},
   "outputs": [],
   "source": [
    "weai = WEAI(df, name='Overall')"
   ]
  },
  {
   "cell_type": "code",
   "execution_count": null,
   "id": "7a8fdcd6-0977-4374-87c3-ae2fec6064af",
   "metadata": {},
   "outputs": [],
   "source": [
    "weai.individual_empowerment_score()"
   ]
  },
  {
   "cell_type": "code",
   "execution_count": null,
   "id": "fd9bc3c1-8aa6-4d32-8fc4-415e2e511bdc",
   "metadata": {},
   "outputs": [],
   "source": [
    "weai.gender_parity_index()"
   ]
  },
  {
   "cell_type": "code",
   "execution_count": null,
   "id": "d359d9ef-6011-42e0-b710-9a2d3f1d1d1d",
   "metadata": {},
   "outputs": [],
   "source": [
    "weai.weai()"
   ]
  },
  {
   "cell_type": "code",
   "execution_count": null,
   "id": "37a2940b-b683-4d62-a2bc-55492dedfac7",
   "metadata": {},
   "outputs": [],
   "source": [
    "weai.weai_table()"
   ]
  },
  {
   "cell_type": "code",
   "execution_count": null,
   "id": "8254b3e0-6bb0-49dd-9bb2-f3f2dfd3fc00",
   "metadata": {},
   "outputs": [],
   "source": [
    "weai.domain_table()"
   ]
  },
  {
   "cell_type": "code",
   "execution_count": null,
   "id": "9351be40-8f5a-4a4d-8e35-9473faf97181",
   "metadata": {},
   "outputs": [],
   "source": [
    "weai.save_tables(file_path = 'tables.xlsx')"
   ]
  },
  {
   "cell_type": "code",
   "execution_count": null,
   "id": "e7b99571-2087-43bc-a423-6ccdc51b5208",
   "metadata": {},
   "outputs": [],
   "source": [
    "df"
   ]
  },
  {
   "cell_type": "code",
   "execution_count": null,
   "id": "6f8920fd-c415-4abd-ade8-e1f2e94ce019",
   "metadata": {},
   "outputs": [],
   "source": []
  }
 ],
 "metadata": {
  "kernelspec": {
   "display_name": "Python 3 (ipykernel)",
   "language": "python",
   "name": "python3"
  },
  "language_info": {
   "codemirror_mode": {
    "name": "ipython",
    "version": 3
   },
   "file_extension": ".py",
   "mimetype": "text/x-python",
   "name": "python",
   "nbconvert_exporter": "python",
   "pygments_lexer": "ipython3",
   "version": "3.11.7"
  }
 },
 "nbformat": 4,
 "nbformat_minor": 5
}
